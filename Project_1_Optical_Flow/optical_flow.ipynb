{
 "cells": [
  {
   "cell_type": "markdown",
   "metadata": {
    "collapsed": false
   },
   "source": [
    "# Part 1\n",
    "This part is concerned with loading images and displaying them."
   ]
  },
  {
   "cell_type": "markdown",
   "metadata": {
    "collapsed": false
   },
   "source": [
    "## Problem 1\n",
    "### Loading the images\n",
    "First we want to load the images into a numpy array. Before we do that, let's set up some imports and paths.\n"
   ]
  },
  {
   "cell_type": "code",
   "execution_count": 1,
   "metadata": {
    "collapsed": false
   },
   "outputs": [],
   "source": [
    "import os\n",
    "import numpy as np\n",
    "import matplotlib.pyplot as plt\n",
    "from scipy.ndimage import convolve, convolve1d\n",
    "from PIL import Image\n",
    "\n",
    "folder_path = \"toyProblem_F22\""
   ]
  },
  {
   "cell_type": "markdown",
   "metadata": {
    "collapsed": false
   },
   "source": [
    "### Load into a NumPy array\n",
    "We then want to store the data in a NumPy array.\n",
    "Along the way we are tasked to convert to grayscale and normalise to the range [0, 1]."
   ]
  },
  {
   "cell_type": "code",
   "execution_count": null,
   "metadata": {
    "collapsed": false
   },
   "outputs": [],
   "source": [
    "image_files = sorted([f for f in os.listdir(folder_path)])\n",
    "\n",
    "num_images = len(image_files)\n",
    "image_shape = (256, 256)\n",
    "image_sequence = np.zeros((num_images, *image_shape), dtype=np.float32)\n",
    "\n",
    "for i, file in enumerate(image_files):\n",
    "    img_path = os.path.join(folder_path, file)\n",
    "    img = Image.open(img_path).convert(\"L\") # this converts to grayscale\n",
    "    img_array = np.array(img, dtype=np.float32) / 255.0 # this normalises to [0, 1]\n",
    "    image_sequence[i] = img_array"
   ]
  },
  {
   "cell_type": "markdown",
   "metadata": {
    "collapsed": false
   },
   "source": [
    "### Showing the images\n",
    "We then want to show the images. We do this by showing each image and adding a delay of 0.1 seconds, clearing the frame and restarting."
   ]
  },
  {
   "cell_type": "code",
   "execution_count": null,
   "metadata": {
    "collapsed": false
   },
   "outputs": [],
   "source": [
    "plt.figure()\n",
    "for frame in range(num_images):\n",
    "    plt.imshow(image_sequence[frame], cmap=\"gray\")\n",
    "    plt.title(f\"Frame {frame+1}/{num_images}\")\n",
    "    plt.axis(\"off\")\n",
    "    plt.pause(0.1)\n",
    "    plt.clf()\n",
    "\n",
    "plt.close()"
   ]
  },
  {
   "cell_type": "markdown",
   "metadata": {
    "collapsed": false
   },
   "source": [
    "# Part 2\n",
    "This part is concerned with image gradients."
   ]
  },
  {
   "cell_type": "markdown",
   "metadata": {
    "collapsed": false
   },
   "source": [
    "## Problem 2.1\n",
    "### Low level gradient calculation\n",
    "We can use the simple low level gradient calculation to calculate the gradients of the images."
   ]
  },
  {
   "cell_type": "code",
   "execution_count": null,
   "metadata": {
    "collapsed": false
   },
   "outputs": [],
   "source": [
    "V_x = image_sequence[:, :, 1:] - image_sequence[:, :, :-1]\n",
    "V_y = image_sequence[:, 1:, :] - image_sequence[:, :-1, :]\n",
    "V_t = image_sequence[1:, :, :] - image_sequence[:-1, :, :]"
   ]
  },
  {
   "cell_type": "markdown",
   "metadata": {
    "collapsed": false
   },
   "source": [
    "### Showing the gradients of a selected frame\n",
    "We can show the gradients of a selected frame by showing the gradients of the frame."
   ]
  },
  {
   "cell_type": "code",
   "execution_count": null,
   "metadata": {
    "collapsed": false
   },
   "outputs": [],
   "source": [
    "selected_frame = 10 # we select the 11th frame for no particular reason\n",
    "plt.figure(figsize=(15, 5))\n",
    "\n",
    "plt.subplot(1, 3, 1)\n",
    "plt.imshow(V_x[selected_frame], cmap=\"gray\")\n",
    "plt.title(\"V_x (Gradient in x-direction)\")\n",
    "plt.axis(\"off\")\n",
    "\n",
    "plt.subplot(1, 3, 2)\n",
    "plt.imshow(V_y[selected_frame], cmap=\"gray\")\n",
    "plt.title(\"V_y (Gradient in y-direction)\")\n",
    "plt.axis(\"off\")\n",
    "\n",
    "plt.subplot(1, 3, 3)\n",
    "plt.imshow(V_t[selected_frame], cmap=\"gray\")\n",
    "plt.title(\"V_t (Gradient in time)\")\n",
    "plt.axis(\"off\")\n",
    "\n",
    "plt.tight_layout()\n",
    "plt.show()"
   ]
  },
  {
   "cell_type": "markdown",
   "metadata": {
    "collapsed": false
   },
   "source": [
    "### Observations of the gradients\n",
    "We observe that the gradients are split between the x, y and t directions\n",
    "- The x gradient shows the changes in the vertical direction\n",
    "- The y gradient shows the changes in the horizontal direction\n",
    "- The t gradient shows the regions where motion occurs between frames"
   ]
  },
  {
   "cell_type": "markdown",
   "metadata": {
    "collapsed": false
   },
   "source": [
    "## Problem 2.2\n",
    "### Simple gradient filters\n",
    "We want to use prewitt and sobel kernels to calculate the gradients. Let's define these kernels - they can be found [here](https://www.projectrhea.org/rhea/index.php/An_Implementation_of_Sobel_Edge_Detection)."
   ]
  },
  {
   "cell_type": "code",
   "execution_count": null,
   "metadata": {
    "collapsed": false
   },
   "outputs": [],
   "source": [
    "prewitt_x = np.array([[-1, 0, 1],\n",
    "                      [-1, 0, 1],\n",
    "                      [-1, 0, 1]])\n",
    "\n",
    "prewitt_y = np.array([[-1, -1, -1],\n",
    "                      [0, 0, 0],\n",
    "                      [1, 1, 1]])\n",
    "\n",
    "sobel_x = np.array([[-1, 0, 1],\n",
    "                    [-2, 0, 2],\n",
    "                    [-1, 0, 1]])\n",
    "\n",
    "sobel_y = np.array([[-1, -2, -1],\n",
    "                    [0, 0, 0],\n",
    "                    [1, 2, 1]])"
   ]
  },
  {
   "cell_type": "markdown",
   "metadata": {
    "collapsed": false
   },
   "source": [
    "#### Convolution with the kernels\n",
    "We can then convolve the kernels with the images to get the gradients."
   ]
  },
  {
   "cell_type": "code",
   "execution_count": null,
   "metadata": {
    "collapsed": false
   },
   "outputs": [],
   "source": [
    "V_x_prewitt = convolve(image_sequence, prewitt_x[np.newaxis, :, :], mode=\"constant\")\n",
    "V_y_prewitt = convolve(image_sequence, prewitt_y[np.newaxis, :, :], mode=\"constant\")\n",
    "\n",
    "V_x_sobel = convolve(image_sequence, sobel_x[np.newaxis, :, :], mode=\"constant\")\n",
    "V_y_sobel = convolve(image_sequence, sobel_y[np.newaxis, :, :], mode=\"constant\")"
   ]
  },
  {
   "cell_type": "markdown",
   "metadata": {
    "collapsed": false
   },
   "source": [
    "### Showing the gradients of a selected frame\n",
    "We can show the gradients of a selected frame by showing the gradients of the frame.\n",
    "We use the scipy.ndimage.convolve function to convolve the image with the kernel. Documentation can be found [here](https://docs.scipy.org/doc/scipy/reference/generated/scipy.ndimage.convolve.html)."
   ]
  },
  {
   "cell_type": "code",
   "execution_count": null,
   "metadata": {
    "collapsed": false
   },
   "outputs": [],
   "source": [
    "plt.figure(figsize=(15, 10))\n",
    "\n",
    "plt.subplot(2, 2, 1)\n",
    "plt.imshow(V_x_prewitt[selected_frame], cmap=\"gray\")\n",
    "plt.title(\"V_x (Prewitt)\")\n",
    "\n",
    "plt.subplot(2, 2, 2)\n",
    "plt.imshow(V_y_prewitt[selected_frame], cmap=\"gray\")\n",
    "plt.title(\"V_y (Prewitt)\")\n",
    "\n",
    "plt.subplot(2, 2, 3)\n",
    "plt.imshow(V_x_sobel[selected_frame], cmap=\"gray\")\n",
    "plt.title(\"V_x (Sobel)\")\n",
    "\n",
    "plt.subplot(2, 2, 4)\n",
    "plt.imshow(V_y_sobel[selected_frame], cmap=\"gray\")\n",
    "plt.title(\"V_y (Sobel)\")\n",
    "\n",
    "plt.tight_layout()\n",
    "plt.show()"
   ]
  },
  {
   "cell_type": "markdown",
   "metadata": {},
   "source": [
    "I think we should not keep these, since scipy convolve already handles flipping for us."
   ]
  },
  {
   "cell_type": "markdown",
   "metadata": {},
   "source": [
    "### Flipping the kernels and plotting again"
   ]
  },
  {
   "cell_type": "markdown",
   "metadata": {
    "collapsed": false
   },
   "source": [
    "### Image Filtering"
   ]
  },
  {
   "cell_type": "code",
   "execution_count": null,
   "metadata": {},
   "outputs": [],
   "source": [
    "temporal_filter = np.array([[-1], [1]])\n",
    "\n",
    "V_x_prewitt = convolve(image_sequence, prewitt_x[np.newaxis, :, :], mode=\"constant\")\n",
    "V_y_prewitt = convolve(image_sequence, prewitt_y[np.newaxis, :, :], mode=\"constant\")\n",
    "\n",
    "V_x_sobel = convolve(image_sequence, sobel_x[np.newaxis, :, :], mode=\"constant\")\n",
    "V_y_sobel = convolve(image_sequence, sobel_y[np.newaxis, :, :], mode=\"constant\")\n",
    "\n",
    "V_t = convolve(image_sequence, temporal_filter.reshape(2, 1, 1), mode=\"constant\")\n"
   ]
  },
  {
   "cell_type": "markdown",
   "metadata": {},
   "source": [
    "### Plot this"
   ]
  },
  {
   "cell_type": "code",
   "execution_count": null,
   "metadata": {},
   "outputs": [],
   "source": [
    "selected_frame = 10\n",
    "\n",
    "fig, axes = plt.subplots(nrows=2, ncols=3, figsize=(15, 10))\n",
    "\n",
    "# Prewitt gradients (first row)\n",
    "axes[0, 0].imshow(V_x_prewitt[selected_frame], cmap=\"gray\")\n",
    "axes[0, 0].set_title(\"V_x (Prewitt)\")\n",
    "axes[0, 0].axis(\"off\")\n",
    "\n",
    "axes[0, 1].imshow(V_y_prewitt[selected_frame], cmap=\"gray\")\n",
    "axes[0, 1].set_title(\"V_y (Prewitt)\")\n",
    "axes[0, 1].axis(\"off\")\n",
    "\n",
    "axes[0, 2].imshow(V_t[selected_frame], cmap=\"gray\")\n",
    "axes[0, 2].set_title(\"V_t (Prewitt)\")\n",
    "axes[0, 2].axis(\"off\")\n",
    "\n",
    "# Sobel gradients (second row)\n",
    "axes[1, 0].imshow(V_x_sobel[selected_frame], cmap=\"gray\")\n",
    "axes[1, 0].set_title(\"V_x (Sobel)\")\n",
    "axes[1, 0].axis(\"off\")\n",
    "\n",
    "axes[1, 1].imshow(V_y_sobel[selected_frame], cmap=\"gray\")\n",
    "axes[1, 1].set_title(\"V_y (Sobel)\")\n",
    "axes[1, 1].axis(\"off\")\n",
    "\n",
    "axes[1, 2].imshow(V_t[selected_frame], cmap=\"gray\")\n",
    "axes[1, 2].set_title(\"V_t (Sobel)\")\n",
    "axes[1, 2].axis(\"off\")\n",
    "\n",
    "plt.tight_layout()\n",
    "plt.show()"
   ]
  },
  {
   "cell_type": "markdown",
   "metadata": {},
   "source": [
    "## Problem 2.3\n",
    "### Gaussian Gradient Filters"
   ]
  },
  {
   "cell_type": "code",
   "execution_count": null,
   "metadata": {},
   "outputs": [],
   "source": [
    "def Gauss(x,sigma):\n",
    "    return (1/(np.sqrt(2*np.pi*(sigma**2))))*np.exp(-(x**2)/(2*(sigma**2)))\n",
    "\n",
    "# an array of a given size with a gaussian distribution in dicrete steps\n",
    "\n",
    "def GaussArray(sigma,size):\n",
    "    arr = np.arange(-sigma*size,sigma*size+1,1)\n",
    "    G = Gauss(arr,sigma)\n",
    "    return G / np.sum(np.abs(G))\n",
    "\n",
    "# the derrivative of the gaussian function\n",
    "\n",
    "def dGauss(x,sigma):\n",
    "    return (x/(sigma**2))*Gauss(x,sigma)\n",
    "\n",
    "# an array of a given size with the derrivative of a gaussian distribution in discrete steps\n",
    "\n",
    "def dGaussArray(sigma,size):\n",
    "    arr = np.arange(-sigma*size,sigma*size+1,1)\n",
    "    G = dGauss(arr,sigma)\n",
    "    return G / np.linalg.norm(G)\n",
    "\n",
    "def V_x_gauss(sigma,size):\n",
    "    V = convolve1d(image_sequence,dGaussArray(sigma,size),2)\n",
    "    return V\n",
    "\n",
    "def V_y_gauss(sigma,size):\n",
    "    V = convolve1d(image_sequence,dGaussArray(sigma,size),1)\n",
    "    return V\n",
    "\n",
    "def V_t_gauss(sigma,size):\n",
    "    V = convolve1d(image_sequence,dGaussArray(sigma,size),0)\n",
    "    return V"
   ]
  },
  {
   "cell_type": "markdown",
   "metadata": {},
   "source": [
    "Plot"
   ]
  },
  {
   "cell_type": "code",
   "execution_count": null,
   "metadata": {},
   "outputs": [],
   "source": [
    "plt.figure(figsize=(15, 10))\n",
    "\n",
    "plt.subplot(2, 3, 1)\n",
    "plt.imshow(V_x_gauss(1,2)[selected_frame], cmap=\"gray\")\n",
    "plt.title(\"V_x (Gauss)\")\n",
    "\n",
    "plt.subplot(2, 3, 2)\n",
    "plt.imshow(V_y_gauss(1,2)[selected_frame], cmap=\"gray\")\n",
    "plt.title(\"V_y (Gauss)\")\n",
    "\n",
    "plt.subplot(2, 3, 3)\n",
    "plt.imshow(V_t[selected_frame], cmap=\"gray\")\n",
    "plt.title(\"V_t (Gauss)\")\n",
    "\n",
    "plt.subplot(2, 3, 4)\n",
    "plt.imshow(V_x_sobel[selected_frame], cmap=\"gray\")\n",
    "plt.title(\"V_x (Sobel)\")\n",
    "\n",
    "plt.subplot(2, 3, 5)\n",
    "plt.imshow(V_y_sobel[selected_frame], cmap=\"gray\")\n",
    "plt.title(\"V_y (Sobel)\")\n",
    "\n",
    "plt.subplot(2, 3, 6)\n",
    "plt.imshow(V_t[selected_frame], cmap=\"gray\")\n",
    "plt.title(\"V_t (Sobel)\")\n",
    "\n",
    "plt.tight_layout()\n",
    "plt.show()"
   ]
  },
  {
   "cell_type": "code",
   "execution_count": null,
   "metadata": {},
   "outputs": [],
   "source": [
    "selected_frame = 10\n",
    "\n",
    "fig, axes = plt.subplots(nrows=3, ncols=3, figsize=(15, 15))\n",
    "\n",
    "# Row 1: Gaussian gradients\n",
    "axes[0, 0].imshow(V_x_gauss(1, 2)[selected_frame], cmap=\"gray\")\n",
    "axes[0, 0].set_title(\"V_x (Gauss)\")\n",
    "axes[0, 0].axis(\"off\")\n",
    "\n",
    "axes[0, 1].imshow(V_y_gauss(1, 2)[selected_frame], cmap=\"gray\")\n",
    "axes[0, 1].set_title(\"V_y (Gauss)\")\n",
    "axes[0, 1].axis(\"off\")\n",
    "\n",
    "axes[0, 2].imshow(V_t[selected_frame], cmap=\"gray\")\n",
    "axes[0, 2].set_title(\"V_t (Gauss)\")\n",
    "axes[0, 2].axis(\"off\")\n",
    "\n",
    "# Row 2: Sobel gradients\n",
    "axes[1, 0].imshow(V_x_sobel[selected_frame], cmap=\"gray\")\n",
    "axes[1, 0].set_title(\"V_x (Sobel)\")\n",
    "axes[1, 0].axis(\"off\")\n",
    "\n",
    "axes[1, 1].imshow(V_y_sobel[selected_frame], cmap=\"gray\")\n",
    "axes[1, 1].set_title(\"V_y (Sobel)\")\n",
    "axes[1, 1].axis(\"off\")\n",
    "\n",
    "axes[1, 2].imshow(V_t[selected_frame], cmap=\"gray\")\n",
    "axes[1, 2].set_title(\"V_t (Sobel)\")\n",
    "axes[1, 2].axis(\"off\")\n",
    "\n",
    "# Row 3: Prewitt gradients\n",
    "axes[2, 0].imshow(V_x_prewitt[selected_frame], cmap=\"gray\")\n",
    "axes[2, 0].set_title(\"V_x (Prewitt)\")\n",
    "axes[2, 0].axis(\"off\")\n",
    "\n",
    "axes[2, 1].imshow(V_y_prewitt[selected_frame], cmap=\"gray\")\n",
    "axes[2, 1].set_title(\"V_y (Prewitt)\")\n",
    "axes[2, 1].axis(\"off\")\n",
    "\n",
    "axes[2, 2].imshow(V_t[selected_frame], cmap=\"gray\")\n",
    "axes[2, 2].set_title(\"V_t (Prewitt)\")\n",
    "axes[2, 2].axis(\"off\")\n",
    "\n",
    "plt.tight_layout()\n",
    "plt.show()\n"
   ]
  },
  {
   "cell_type": "markdown",
   "metadata": {},
   "source": [
    "## Problem 3.1"
   ]
  },
  {
   "cell_type": "code",
   "execution_count": null,
   "metadata": {},
   "outputs": [],
   "source": [
    "selected_frame, pixel_x, pixel_y = 20, 82, 130 # pixel at frame 11 at position 100, 100\n",
    "N = 5 # for the N x N region\n",
    "half_N = N // 2\n",
    "\n",
    "# make sure we stay within bounds\n",
    "x_start = max(0, pixel_x - half_N)\n",
    "x_end = min(image_shape[0], pixel_x + half_N + 1)\n",
    "y_start = max(0, pixel_y - half_N)\n",
    "y_end = min(image_shape[1], pixel_y + half_N + 1)\n",
    "\n",
    "Vx_region = V_x_prewitt[selected_frame, x_start:x_end, y_start:y_end]\n",
    "Vy_region = V_y_prewitt[selected_frame, x_start:x_end, y_start:y_end]\n",
    "Vt_region = V_t[selected_frame, x_start:x_end, y_start:y_end]\n",
    "\n",
    "# flatten the regions so we can create A and b\n",
    "Vx_region_flattened = Vx_region.flatten()\n",
    "Vy_region_flattened = Vy_region.flatten()\n",
    "Vt_region_flattened = Vt_region.flatten()\n",
    "\n",
    "A = np.vstack((Vx_region_flattened, Vy_region_flattened)).T\n",
    "b = -Vt_region_flattened\n",
    "\n",
    "u, v = np.linalg.lstsq(A, b, rcond=None)[0]\n",
    "\n",
    "flow_vector, residuals, rank, s = np.linalg.lstsq(A, b, rcond=None)\n",
    "u, v = flow_vector\n",
    "\n",
    "print(f\"Displacement vector (u, v) at pixel ({pixel_x}, {pixel_y}, {selected_frame}): ({u:.2f}, {v:.2f})\")\n",
    "\n",
    "plt.figure()\n",
    "plt.imshow(image_sequence[selected_frame], cmap=\"gray\")\n",
    "plt.quiver(pixel_x, pixel_y, u, v, color=\"red\", angles=\"xy\", scale_units=\"xy\", scale=1)\n",
    "plt.title(f\"Displacement vector (u, v) = ({u:.2f}, {v:.2f}) at pixel ({pixel_x}, {pixel_y}) for frame {selected_frame}\")\n",
    "plt.axis(\"off\")\n",
    "plt.show()"
   ]
  },
  {
   "cell_type": "markdown",
   "metadata": {},
   "source": [
    "## Problem 3.2"
   ]
  },
  {
   "cell_type": "code",
   "execution_count": null,
   "metadata": {},
   "outputs": [],
   "source": [
    "def calculate_optical_flow_single_frame(V_x, V_y, V_t, frame, N=5, stride=1):\n",
    "    half_N = N // 2\n",
    "    flow_vectors = np.zeros((frame.shape[0], frame.shape[1], 2))  # To store flow vectors (u, v)\n",
    "    \n",
    "    for x in range(half_N, frame.shape[0] - half_N, stride):\n",
    "        for y in range(half_N, frame.shape[1] - half_N, stride):\n",
    "            \n",
    "            # Extract gradients in the N x N region around (x, y)\n",
    "            x_start = max(0, x - half_N)\n",
    "            x_end = min(frame.shape[0], x + half_N + 1)\n",
    "            y_start = max(0, y - half_N)\n",
    "            y_end = min(frame.shape[1], y + half_N + 1)\n",
    "            \n",
    "            Vx_region = V_x[x_start:x_end, y_start:y_end]\n",
    "            Vy_region = V_y[x_start:x_end, y_start:y_end]\n",
    "            Vt_region = V_t[x_start:x_end, y_start:y_end]\n",
    "\n",
    "            Vx_region_flattened = Vx_region.flatten()\n",
    "            Vy_region_flattened = Vy_region.flatten()\n",
    "            Vt_region_flattened = Vt_region.flatten()\n",
    "            \n",
    "            A = np.vstack((Vx_region_flattened, Vy_region_flattened)).T\n",
    "            b = -Vt_region_flattened\n",
    "            \n",
    "            flow_vector, residuals, rank, s = np.linalg.lstsq(A, b, rcond=None)\n",
    "            u, v = flow_vector\n",
    "            \n",
    "            flow_vectors[x, y] = [u, v]\n",
    "    \n",
    "    return flow_vectors\n",
    "\n",
    "selected_frame = 13\n",
    "frame = image_sequence[selected_frame]\n",
    "V_x = V_x_prewitt[selected_frame]\n",
    "V_y = V_y_prewitt[selected_frame]\n",
    "V_t = convolve(image_sequence, temporal_filter.reshape(2, 1, 1), mode=\"constant\") # just resetting the V_t\n",
    "V_t = V_t[selected_frame]\n",
    "\n",
    "flow_vectors = calculate_optical_flow_single_frame(V_x, V_y, V_t, frame, N=5, stride=2)\n",
    "\n",
    "# Plot the vector field\n",
    "plt.figure(figsize=(10, 10))\n",
    "plt.imshow(frame, cmap=\"gray\")\n",
    "X, Y = np.meshgrid(np.arange(flow_vectors.shape[1]), np.arange(flow_vectors.shape[0]))\n",
    "U = flow_vectors[:, :, 0]\n",
    "V = flow_vectors[:, :, 1]\n",
    "plt.quiver(X, Y, U, V, color='r', scale=1, scale_units='xy')\n",
    "plt.title(f\"Optical Flow Vector Field for Frame {selected_frame}\")\n",
    "plt.axis(\"off\")\n",
    "plt.show()"
   ]
  },
  {
   "cell_type": "code",
   "execution_count": null,
   "metadata": {},
   "outputs": [],
   "source": [
    "def calculate_optical_flow_all_frames(image_sequence, V_x_prewitt, V_y_prewitt, V_t, N=5, stride=1):\n",
    "    num_frames = image_sequence.shape[0]\n",
    "    flow_vectors_all_frames = []\n",
    "    \n",
    "    for t in range(num_frames):\n",
    "        frame = image_sequence[t]\n",
    "        V_x = V_x_prewitt[t]\n",
    "        V_y = V_y_prewitt[t]\n",
    "        V_t_frame = V_t[t]\n",
    "        \n",
    "        flow_vectors = calculate_optical_flow_single_frame(V_x, V_y, V_t_frame, frame, N, stride)\n",
    "        flow_vectors_all_frames.append(flow_vectors)\n",
    "    \n",
    "    return flow_vectors_all_frames"
   ]
  },
  {
   "cell_type": "code",
   "execution_count": null,
   "metadata": {},
   "outputs": [],
   "source": [
    "V_t = convolve(image_sequence, temporal_filter.reshape(2, 1, 1), mode=\"constant\") # just resetting the V_t\n",
    "\n",
    "flow_vectors_all_frames = calculate_optical_flow_all_frames(image_sequence, V_x_prewitt, V_y_prewitt, V_t, N=5, stride=2)\n",
    "\n",
    "# Plot the vector field for each frame\n",
    "for t in range(len(flow_vectors_all_frames)):\n",
    "    frame = image_sequence[t]\n",
    "    flow_vectors = flow_vectors_all_frames[t]\n",
    "    \n",
    "    plt.figure(figsize=(10, 10))\n",
    "    plt.imshow(frame, cmap=\"gray\")\n",
    "    X, Y = np.meshgrid(np.arange(flow_vectors.shape[1]), np.arange(flow_vectors.shape[0]))\n",
    "    U = flow_vectors[:, :, 0]\n",
    "    V = flow_vectors[:, :, 1]\n",
    "    plt.quiver(X, Y, U, V, color='r', scale=1, scale_units='xy')\n",
    "    plt.title(f\"Optical Flow Vector Field for Frame {t}\")\n",
    "    plt.axis(\"off\")\n",
    "    plt.show()"
   ]
  },
  {
   "cell_type": "code",
   "execution_count": null,
   "metadata": {},
   "outputs": [],
   "source": [
    "import matplotlib.animation as animation\n",
    "\n",
    "V_t = convolve(image_sequence, temporal_filter.reshape(2, 1, 1), mode=\"constant\") # just resetting the V_t\n",
    "\n",
    "fig, ax = plt.subplots(figsize=(10, 10))\n",
    "\n",
    "def update_quiver(t):\n",
    "    ax.clear()\n",
    "    frame = image_sequence[t]\n",
    "    flow_vectors = flow_vectors_all_frames[t]\n",
    "    \n",
    "    ax.imshow(frame, cmap=\"gray\")\n",
    "    X, Y = np.meshgrid(np.arange(flow_vectors.shape[1]), np.arange(flow_vectors.shape[0]))\n",
    "    U = flow_vectors[:, :, 0]\n",
    "    V = flow_vectors[:, :, 1]\n",
    "    ax.quiver(X, Y, U, V, color='r', scale=1, scale_units='xy')\n",
    "    ax.set_title(f\"Optical Flow Vector Field for Frame {t}\")\n",
    "    ax.axis(\"off\")\n",
    "\n",
    "ani = animation.FuncAnimation(fig, update_quiver, frames=len(flow_vectors_all_frames), interval=200)\n",
    "\n",
    "# Save the animation to a file on the desktop\n",
    "output_path = os.path.expanduser(\"~/Desktop/optical_flow_animatio_2.mp4\")\n",
    "ani.save(output_path, writer='ffmpeg', fps=5)\n",
    "\n",
    "plt.close(fig)"
   ]
  },
  {
   "cell_type": "markdown",
   "metadata": {},
   "source": [
    "We can also do that with the Gaussian"
   ]
  },
  {
   "cell_type": "code",
   "execution_count": null,
   "metadata": {},
   "outputs": [],
   "source": [
    "selected_frame = 10\n",
    "frame = image_sequence[selected_frame]\n",
    "V_x = V_x_gauss(1,2)\n",
    "V_y = V_y_gauss(1,2)\n",
    "V_t = convolve(image_sequence, temporal_filter.reshape(2, 1, 1), mode=\"constant\")\n",
    "\n",
    "\n",
    "flow_vectors_all_frames = calculate_optical_flow_all_frames(image_sequence, V_x, V_y, V_t, N=3, stride=3)\n",
    "\n",
    "# Plot the vector field for each frame\n",
    "for t in range(len(flow_vectors_all_frames)):\n",
    "    frame = image_sequence[t]\n",
    "    flow_vectors = flow_vectors_all_frames[t]\n",
    "    \n",
    "    plt.figure(figsize=(10, 10))\n",
    "    plt.imshow(frame, cmap=\"gray\")\n",
    "    X, Y = np.meshgrid(np.arange(flow_vectors.shape[1]), np.arange(flow_vectors.shape[0]))\n",
    "    U = flow_vectors[:, :, 0]\n",
    "    V = flow_vectors[:, :, 1]\n",
    "    plt.quiver(X, Y, U, V, color='r', scale=1, scale_units='xy')\n",
    "    plt.title(f\"Optical Flow Vector Field for Frame {t}\")\n",
    "    plt.axis(\"off\")\n",
    "    plt.show()\n",
    "\n",
    "V_t = convolve(image_sequence, temporal_filter.reshape(2, 1, 1), mode=\"constant\") # just resetting the V_t\n",
    "\n",
    "fig, ax = plt.subplots(figsize=(10, 10))\n",
    "\n",
    "def update_quiver(t):\n",
    "    ax.clear()\n",
    "    frame = image_sequence[t]\n",
    "    flow_vectors = flow_vectors_all_frames[t]\n",
    "    \n",
    "    ax.imshow(frame, cmap=\"gray\")\n",
    "    X, Y = np.meshgrid(np.arange(flow_vectors.shape[1]), np.arange(flow_vectors.shape[0]))\n",
    "    U = flow_vectors[:, :, 0]\n",
    "    V = flow_vectors[:, :, 1]\n",
    "    ax.quiver(X, Y, U, V, color='r', scale=1, scale_units='xy')\n",
    "    ax.set_title(f\"Optical Flow Vector Field for Frame {t}\")\n",
    "    ax.axis(\"off\")\n",
    "\n",
    "ani = animation.FuncAnimation(fig, update_quiver, frames=len(flow_vectors_all_frames), interval=200)\n",
    "\n",
    "# Save the animation to a file on the desktop\n",
    "output_path = os.path.expanduser(\"~/Desktop/gaussian-ballade.mp4\")\n",
    "ani.save(output_path, writer='ffmpeg', fps=5)\n",
    "\n",
    "plt.close(fig)"
   ]
  },
  {
   "cell_type": "markdown",
   "metadata": {},
   "source": [
    "## Part 4"
   ]
  },
  {
   "cell_type": "markdown",
   "metadata": {},
   "source": [
    "## Problem 4.1"
   ]
  },
  {
   "cell_type": "code",
   "execution_count": null,
   "metadata": {},
   "outputs": [],
   "source": [
    "image_files = sorted([f for f in os.listdir(\"should-work-seq\")])\n",
    "\n",
    "num_images = len(image_files)\n",
    "image_shape = (256, 256)\n",
    "own_image_sequence = np.zeros((num_images, *image_shape), dtype=np.float32)\n",
    "\n",
    "for i, file in enumerate(image_files):\n",
    "    img_path = os.path.join(\"should-work-seq\", file)\n",
    "    img = Image.open(img_path).convert(\"L\") # this converts to grayscale\n",
    "    img_array = np.array(img, dtype=np.float32) / 255.0 # this normalises to [0, 1]\n",
    "    own_image_sequence[i] = img_array"
   ]
  },
  {
   "cell_type": "code",
   "execution_count": null,
   "metadata": {},
   "outputs": [],
   "source": [
    "V_t = convolve(own_image_sequence, temporal_filter.reshape(2, 1, 1), mode=\"constant\") # just resetting the V_t\n",
    "\n",
    "flow_vectors_all_frames = calculate_optical_flow_all_frames(own_image_sequence, V_x_prewitt, V_y_prewitt, V_t, N=5, stride=5)\n",
    "\n",
    "# Plot the vector field for each frame\n",
    "for t in range(len(flow_vectors_all_frames)):\n",
    "    frame = own_image_sequence[t]\n",
    "    flow_vectors = flow_vectors_all_frames[t]\n",
    "    \n",
    "    plt.figure(figsize=(10, 10))\n",
    "    plt.imshow(frame, cmap=\"gray\")\n",
    "    X, Y = np.meshgrid(np.arange(flow_vectors.shape[1]), np.arange(flow_vectors.shape[0]))\n",
    "    U = flow_vectors[:, :, 0]\n",
    "    V = flow_vectors[:, :, 1]\n",
    "    plt.quiver(X, Y, U, V, color='r', scale=1, scale_units='xy')\n",
    "    plt.title(f\"Optical Flow Vector Field for Frame {t}\")\n",
    "    plt.axis(\"off\")\n",
    "    plt.show()"
   ]
  },
  {
   "cell_type": "code",
   "execution_count": null,
   "metadata": {},
   "outputs": [],
   "source": [
    "V_t = convolve(own_image_sequence, temporal_filter.reshape(2, 1, 1), mode=\"constant\") # just resetting the V_t\n",
    "\n",
    "fig, ax = plt.subplots(figsize=(10, 10))\n",
    "\n",
    "def update_quiver(t):\n",
    "    ax.clear()\n",
    "    frame = own_image_sequence[t]\n",
    "    flow_vectors = flow_vectors_all_frames[t]\n",
    "    \n",
    "    ax.imshow(frame, cmap=\"gray\")\n",
    "    X, Y = np.meshgrid(np.arange(flow_vectors.shape[1]), np.arange(flow_vectors.shape[0]))\n",
    "    U = flow_vectors[:, :, 0]\n",
    "    V = flow_vectors[:, :, 1]\n",
    "    ax.quiver(X, Y, U, V, color='r', scale=1, scale_units='xy')\n",
    "    ax.set_title(f\"Optical Flow Vector Field for Frame {t}\")\n",
    "    ax.axis(\"off\")\n",
    "\n",
    "ani = animation.FuncAnimation(fig, update_quiver, frames=len(flow_vectors_all_frames), interval=200)\n",
    "\n",
    "# Save the animation to a file on the desktop\n",
    "output_path = os.path.expanduser(\"~/Desktop/optical_flow_animation_own1.mp4\")\n",
    "ani.save(output_path, writer='ffmpeg', fps=5)\n",
    "\n",
    "plt.close(fig)"
   ]
  },
  {
   "cell_type": "markdown",
   "metadata": {},
   "source": [
    "Trying with Sobel instead of prewitt"
   ]
  },
  {
   "cell_type": "code",
   "execution_count": null,
   "metadata": {},
   "outputs": [],
   "source": [
    "V_t = convolve(own_image_sequence, temporal_filter.reshape(2, 1, 1), mode=\"constant\") # just resetting the V_t\n",
    "\n",
    "flow_vectors_all_frames = calculate_optical_flow_all_frames(own_image_sequence, V_x_sobel, V_y_sobel, V_t, N=5, stride=5)\n",
    "\n",
    "# Plot the vector field for each frame\n",
    "for t in range(len(flow_vectors_all_frames)):\n",
    "    frame = own_image_sequence[t]\n",
    "    flow_vectors = flow_vectors_all_frames[t]\n",
    "    \n",
    "    plt.figure(figsize=(10, 10))\n",
    "    plt.imshow(frame, cmap=\"gray\")\n",
    "    X, Y = np.meshgrid(np.arange(flow_vectors.shape[1]), np.arange(flow_vectors.shape[0]))\n",
    "    U = flow_vectors[:, :, 0]\n",
    "    V = flow_vectors[:, :, 1]\n",
    "    plt.quiver(X, Y, U, V, color='r', scale=1, scale_units='xy')\n",
    "    plt.title(f\"Optical Flow Vector Field for Frame {t}\")\n",
    "    plt.axis(\"off\")\n",
    "    plt.show()"
   ]
  },
  {
   "cell_type": "code",
   "execution_count": null,
   "metadata": {},
   "outputs": [],
   "source": [
    "V_t = convolve(own_image_sequence, temporal_filter.reshape(2, 1, 1), mode=\"constant\") # just resetting the V_t\n",
    "\n",
    "flow_vectors_all_frames = calculate_optical_flow_all_frames(own_image_sequence, V_x_sobel, V_y_sobel, V_t, N=5, stride=5)\n",
    "\n",
    "# Plot the vector field for each frame\n",
    "for t in range(len(flow_vectors_all_frames)):\n",
    "    frame = own_image_sequence[t]\n",
    "    flow_vectors = flow_vectors_all_frames[t]\n",
    "    \n",
    "    plt.figure(figsize=(10, 10))\n",
    "    plt.imshow(frame, cmap=\"gray\")\n",
    "    X, Y = np.meshgrid(np.arange(flow_vectors.shape[1]), np.arange(flow_vectors.shape[0]))\n",
    "    U = flow_vectors[:, :, 0]\n",
    "    V = flow_vectors[:, :, 1]\n",
    "    plt.quiver(X, Y, U, V, color='r', scale=1, scale_units='xy')\n",
    "    plt.title(f\"Optical Flow Vector Field for Frame {t}\")\n",
    "    plt.axis(\"off\")\n",
    "    plt.show()"
   ]
  },
  {
   "cell_type": "code",
   "execution_count": null,
   "metadata": {},
   "outputs": [],
   "source": [
    "image_files = sorted([f for f in os.listdir(\"should-break-seq\")])\n",
    "\n",
    "num_images = len(image_files)\n",
    "image_shape = (256, 256)\n",
    "breaking_img_sequence = np.zeros((num_images, *image_shape), dtype=np.float32)\n",
    "\n",
    "for i, file in enumerate(image_files):\n",
    "    if file.startswith(\".\"):\n",
    "        continue\n",
    "    img_path = os.path.join(\"should-break-seq\", file)\n",
    "    img = Image.open(img_path).convert(\"L\") # this converts to grayscale\n",
    "    img_array = np.array(img, dtype=np.float32) / 255.0 # this normalises to [0, 1]\n",
    "    breaking_img_sequence[i] = img_array"
   ]
  },
  {
   "cell_type": "code",
   "execution_count": null,
   "metadata": {},
   "outputs": [],
   "source": [
    "print(breaking_img_sequence[0])"
   ]
  },
  {
   "cell_type": "code",
   "execution_count": null,
   "metadata": {},
   "outputs": [],
   "source": [
    "V_x_prewitt = convolve(breaking_img_sequence, prewitt_x[np.newaxis, :, :], mode=\"constant\")\n",
    "V_y_prewitt = convolve(breaking_img_sequence, prewitt_y[np.newaxis, :, :], mode=\"constant\")"
   ]
  },
  {
   "cell_type": "code",
   "execution_count": null,
   "metadata": {},
   "outputs": [],
   "source": [
    "V_t = convolve(breaking_img_sequence, temporal_filter.reshape(2, 1, 1), mode=\"constant\") # just resetting the V_t\n",
    "\n",
    "flow_vectors_all_frames = calculate_optical_flow_all_frames(breaking_img_sequence, V_x_prewitt, V_y_prewitt, V_t, N=5, stride=2)\n",
    "\n",
    "# Plot the vector field for each frame\n",
    "for t in range(len(flow_vectors_all_frames)):\n",
    "    frame = breaking_img_sequence[t]\n",
    "    flow_vectors = flow_vectors_all_frames[t]\n",
    "    \n",
    "    plt.figure(figsize=(10, 10))\n",
    "    plt.imshow(frame, cmap=\"gray\")\n",
    "    X, Y = np.meshgrid(np.arange(flow_vectors.shape[1]), np.arange(flow_vectors.shape[0]))\n",
    "    U = flow_vectors[:, :, 0]\n",
    "    V = flow_vectors[:, :, 1]\n",
    "    plt.quiver(X, Y, U, V, color='r', scale=1, scale_units='xy')\n",
    "    plt.title(f\"Optical Flow Vector Field for Frame {t}\")\n",
    "    plt.axis(\"off\")\n",
    "    plt.show()"
   ]
  },
  {
   "cell_type": "code",
   "execution_count": null,
   "metadata": {},
   "outputs": [],
   "source": [
    "V_t = convolve(own_image_sequence, temporal_filter.reshape(2, 1, 1), mode=\"constant\") # just resetting the V_t\n",
    "\n",
    "fig, ax = plt.subplots(figsize=(10, 10))\n",
    "\n",
    "def update_quiver(t):\n",
    "    ax.clear()\n",
    "    frame = own_image_sequence[t]\n",
    "    flow_vectors = flow_vectors_all_frames[t]\n",
    "    \n",
    "    ax.imshow(frame, cmap=\"gray\")\n",
    "    X, Y = np.meshgrid(np.arange(flow_vectors.shape[1]), np.arange(flow_vectors.shape[0]))\n",
    "    U = flow_vectors[:, :, 0]\n",
    "    V = flow_vectors[:, :, 1]\n",
    "    ax.quiver(X, Y, U, V, color='r', scale=1, scale_units='xy')\n",
    "    ax.set_title(f\"Optical Flow Vector Field for Frame {t}\")\n",
    "    ax.axis(\"off\")\n",
    "\n",
    "ani = animation.FuncAnimation(fig, update_quiver, frames=len(flow_vectors_all_frames), interval=200)\n",
    "\n",
    "# Save the animation to a file on the desktop\n",
    "output_path = os.path.expanduser(\"~/Desktop/breaking-video.mp4\")\n",
    "ani.save(output_path, writer='ffmpeg', fps=5)\n",
    "\n",
    "plt.close(fig)"
   ]
  }
 ],
 "metadata": {
  "kernelspec": {
   "display_name": "mathmod",
   "language": "python",
   "name": "python3"
  },
  "language_info": {
   "codemirror_mode": {
    "name": "ipython",
    "version": 3
   },
   "file_extension": ".py",
   "mimetype": "text/x-python",
   "name": "python",
   "nbconvert_exporter": "python",
   "pygments_lexer": "ipython3",
   "version": "3.11.11"
  }
 },
 "nbformat": 4,
 "nbformat_minor": 0
}
